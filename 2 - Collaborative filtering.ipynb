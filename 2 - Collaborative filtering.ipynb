{
 "cells": [
  {
   "cell_type": "markdown",
   "metadata": {},
   "source": [
    "## Recommendations with MovieTweetings: Collaborative Filtering\n",
    "\n",
    "One of the most popular methods for making recommendations is **collaborative filtering**.  In collaborative filtering, you are using the collaboration of user-item recommendations to assist in making new recommendations.  \n",
    "\n",
    "There are two main methods of performing collaborative filtering:\n",
    "\n",
    "1. **Neighborhood-Based Collaborative Filtering**, which is based on the idea that we can either correlate items that are similar to provide recommendations or we can correlate users to one another to provide recommendations.\n",
    "\n",
    "2. **Model Based Collaborative Filtering**, which is based on the idea that we can use machine learning and other mathematical models to understand the relationships that exist amongst items and users to predict ratings and provide ratings.\n",
    "\n",
    "\n",
    "In this notebook, you will be working on performing **neighborhood-based collaborative filtering**.  There are two main methods for performing collaborative filtering:\n",
    "\n",
    "1. **User-based collaborative filtering:** In this type of recommendation, users related to the user you would like to make recommendations for are used to create a recommendation.\n",
    "\n",
    "2. **Item-based collaborative filtering:** In this type of recommendation, first you need to find the items that are most related to each other item (based on similar ratings).  Then you can use the ratings of an individual on those similar items to understand if a user will like the new item.\n",
    "\n",
    "In this notebook you will be implementing **user-based collaborative filtering**.  However, it is easy to extend this approach to make recommendations using **item-based collaborative filtering**.  First, let's read in our data and necessary libraries.\n",
    "\n",
    "**NOTE**: Because of the size of the datasets, some of your code cells here will take a while to execute, so be patient!"
   ]
  },
  {
   "cell_type": "code",
   "execution_count": 2,
   "metadata": {
    "execution": {
     "iopub.execute_input": "2021-11-24T21:52:50.349513Z",
     "iopub.status.busy": "2021-11-24T21:52:50.349190Z",
     "iopub.status.idle": "2021-11-24T21:52:52.418931Z",
     "shell.execute_reply": "2021-11-24T21:52:52.416701Z",
     "shell.execute_reply.started": "2021-11-24T21:52:50.349484Z"
    }
   },
   "outputs": [],
   "source": [
    "import numpy as np\n",
    "import pandas as pd\n",
    "import matplotlib.pyplot as plt\n",
    "import tests as t\n",
    "from scipy.sparse import csr_matrix\n",
    "from IPython.display import HTML\n",
    "\n",
    "\n",
    "%matplotlib inline\n",
    "\n",
    "# Read in the datasets\n",
    "movies = pd.read_csv('../input/movies-reviews/movies_clean.csv')\n",
    "reviews = pd.read_csv('../input/movies-reviews/reviews_clean.csv')\n",
    "\n",
    "del movies['Unnamed: 0']\n",
    "del reviews['Unnamed: 0']\n",
    "\n",
    "print(reviews.head())"
   ]
  },
  {
   "cell_type": "markdown",
   "metadata": {},
   "source": [
    "### Measures of Similarity\n",
    "\n",
    "When using **neighborhood** based collaborative filtering, it is important to understand how to measure the similarity of users or items to one another.  \n",
    "\n",
    "There are a number of ways in which we might measure the similarity between two vectors (which might be two users or two items).  In this notebook, we will look specifically at two measures used to compare vectors:\n",
    "\n",
    "* **Pearson's correlation coefficient**\n",
    "\n",
    "Pearson's correlation coefficient is a measure of the strength and direction of a linear relationship. The value for this coefficient is a value between -1 and 1 where -1 indicates a strong, negative linear relationship and 1 indicates a strong, positive linear relationship. \n",
    "\n",
    "If we have two vectors x and y, we can define the correlation between the vectors as:\n",
    "\n",
    "\n",
    "$$CORR(x, y) = \\frac{\\text{COV}(x, y)}{\\text{STDEV}(x)\\text{ }\\text{STDEV}(y)}$$\n",
    "\n",
    "where \n",
    "\n",
    "$$\\text{STDEV}(x) = \\sqrt{\\frac{1}{n-1}\\sum_{i=1}^{n}(x_i - \\bar{x})^2}$$\n",
    "\n",
    "and \n",
    "\n",
    "$$\\text{COV}(x, y) = \\frac{1}{n-1}\\sum_{i=1}^{n}(x_i - \\bar{x})(y_i - \\bar{y})$$\n",
    "\n",
    "where n is the length of the vector, which must be the same for both x and y and $\\bar{x}$ is the mean of the observations in the vector.  \n",
    "\n",
    "We can use the correlation coefficient to indicate how alike two vectors are to one another, where the closer to 1 the coefficient, the more alike the vectors are to one another.  There are some potential downsides to using this metric as a measure of similarity.  You will see some of these throughout this workbook.\n",
    "\n",
    "\n",
    "* **Euclidean distance**\n",
    "\n",
    "Euclidean distance is a measure of the straightline distance from one vector to another.  Because this is a measure of distance, larger values are an indication that two vectors are different from one another (which is different than Pearson's correlation coefficient).\n",
    "\n",
    "Specifically, the euclidean distance between two vectors x and y is measured as:\n",
    "\n",
    "$$ \\text{EUCL}(x, y) = \\sqrt{\\sum_{i=1}^{n}(x_i - y_i)^2}$$\n",
    "\n",
    "Different from the correlation coefficient, no scaling is performed in the denominator.  Therefore, you need to make sure all of your data are on the same scale when using this metric.\n",
    "\n",
    "**Note:** Because measuring similarity is often based on looking at the distance between vectors, it is important in these cases to scale your data or to have all data be in the same scale.  If some measures are on a 5 point scale, while others are on a 100 point scale, you are likely to have non-optimal results due to the difference in variability of your features.  In this case, we will not need to scale data because they are all on a 10 point scale, but it is always something to keep in mind!\n",
    "\n",
    "------------\n",
    "\n",
    "### User-Item Matrix\n",
    "\n",
    "In order to calculate the similarities, it is common to put values in a matrix.  In this matrix, users are identified by each row, and items are represented by columns.  \n",
    "\n",
    "\n",
    "![alt text](imgs/userxitem.png \"User Item Matrix\")\n"
   ]
  },
  {
   "cell_type": "markdown",
   "metadata": {},
   "source": [
    "In the above matrix, you can see that **User 1** and **User 2** both used **Item 1**, and **User 2**, **User 3**, and **User 4** all used **Item 2**.  However, there are also a large number of missing values in the matrix for users who haven't used a particular item.  A matrix with many missing values (like the one above) is considered **sparse**.\n",
    "\n",
    "Our first goal for this notebook is to create the above matrix with the **reviews** dataset.  However, instead of 1 values in each cell, you should have the actual rating.  \n",
    "\n",
    "The users will indicate the rows, and the movies will exist across the columns. To create the user-item matrix, we only need the first three columns of the **reviews** dataframe, which you can see by running the cell below."
   ]
  },
  {
   "cell_type": "code",
   "execution_count": 3,
   "metadata": {
    "execution": {
     "iopub.execute_input": "2021-11-24T21:52:52.420736Z",
     "iopub.status.busy": "2021-11-24T21:52:52.420509Z",
     "iopub.status.idle": "2021-11-24T21:52:52.578737Z",
     "shell.execute_reply": "2021-11-24T21:52:52.577793Z",
     "shell.execute_reply.started": "2021-11-24T21:52:52.420709Z"
    }
   },
   "outputs": [],
   "source": [
    "user_items = reviews[['user_id', 'movie_id', 'rating']]\n",
    "user_items.head()"
   ]
  },
  {
   "cell_type": "markdown",
   "metadata": {},
   "source": [
    "### Creating the User-Item Matrix\n",
    "\n",
    "In order to create the user-items matrix (like the one above), I personally started by using a [pivot table](https://pandas.pydata.org/pandas-docs/stable/generated/pandas.pivot_table.html). \n",
    "\n",
    "However, I quickly ran into a memory error (a common theme throughout this notebook).  I will help you navigate around many of the errors I had, and achieve useful collaborative filtering results! \n",
    "\n",
    "_____\n",
    "\n",
    "`1.` Create a matrix where the users are the rows, the movies are the columns, and the ratings exist in each cell, or a NaN exists in cells where a user hasn't rated a particular movie. If you get a memory error (like I did), [this link here](https://stackoverflow.com/questions/39648991/pandas-dataframe-pivot-memory-error) might help you!"
   ]
  },
  {
   "cell_type": "code",
   "execution_count": 4,
   "metadata": {
    "execution": {
     "iopub.execute_input": "2021-11-24T21:52:52.580982Z",
     "iopub.status.busy": "2021-11-24T21:52:52.580197Z",
     "iopub.status.idle": "2021-11-24T21:53:01.347873Z",
     "shell.execute_reply": "2021-11-24T21:53:01.346981Z",
     "shell.execute_reply.started": "2021-11-24T21:52:52.580933Z"
    }
   },
   "outputs": [],
   "source": [
    "# Create user-by-item matrix\n",
    "user_by_movie = user_items.groupby(['user_id', 'movie_id'])['rating'].max().unstack()"
   ]
  },
  {
   "cell_type": "code",
   "execution_count": 5,
   "metadata": {
    "execution": {
     "iopub.execute_input": "2021-11-24T21:53:01.349794Z",
     "iopub.status.busy": "2021-11-24T21:53:01.349557Z",
     "iopub.status.idle": "2021-11-24T21:53:01.404152Z",
     "shell.execute_reply": "2021-11-24T21:53:01.403338Z",
     "shell.execute_reply.started": "2021-11-24T21:53:01.349766Z"
    },
    "scrolled": true
   },
   "outputs": [],
   "source": [
    "user_by_movie"
   ]
  },
  {
   "cell_type": "markdown",
   "metadata": {},
   "source": [
    "Check your results below to make sure your matrix is ready for the upcoming sections."
   ]
  },
  {
   "cell_type": "code",
   "execution_count": 6,
   "metadata": {
    "execution": {
     "iopub.execute_input": "2021-11-24T21:53:01.405629Z",
     "iopub.status.busy": "2021-11-24T21:53:01.405399Z",
     "iopub.status.idle": "2021-11-24T21:53:01.424016Z",
     "shell.execute_reply": "2021-11-24T21:53:01.423245Z",
     "shell.execute_reply.started": "2021-11-24T21:53:01.405601Z"
    }
   },
   "outputs": [],
   "source": [
    "assert movies.shape[0] == user_by_movie.shape[1], \"Oh no! Your matrix should have {} columns, and yours has {}!\".format(movies.shape[0], user_by_movie.shape[1])\n",
    "assert reviews.user_id.nunique() == user_by_movie.shape[0], \"Oh no! Your matrix should have {} rows, and yours has {}!\".format(reviews.user_id.nunique(), user_by_movie.shape[0])\n",
    "print(\"Looks like you are all set! Proceed!\")\n",
    "HTML('<img src=\"images/greatjob.webp\">')"
   ]
  },
  {
   "cell_type": "markdown",
   "metadata": {},
   "source": [
    "`2.` Now that you have a matrix of users by movies, use this matrix to create a dictionary where the key is each user and the value is an array of the movies each user has rated."
   ]
  },
  {
   "cell_type": "code",
   "execution_count": 7,
   "metadata": {
    "execution": {
     "iopub.execute_input": "2021-11-24T21:53:01.425827Z",
     "iopub.status.busy": "2021-11-24T21:53:01.425512Z",
     "iopub.status.idle": "2021-11-24T21:53:12.682551Z",
     "shell.execute_reply": "2021-11-24T21:53:12.681571Z",
     "shell.execute_reply.started": "2021-11-24T21:53:01.425785Z"
    }
   },
   "outputs": [],
   "source": [
    "# Create a dictionary with users and corresponding movies seen\n",
    "\n",
    "def movies_watched(user_id):\n",
    "    '''\n",
    "    INPUT:\n",
    "    user_id - the user_id of an individual as int\n",
    "    OUTPUT:\n",
    "    movies - an array of movies the user has watched\n",
    "    '''\n",
    "    movies = user_by_movie.loc[user_id].dropna().index.values\n",
    "\n",
    "    return movies\n",
    "\n",
    "\n",
    "def create_user_movie_dict():\n",
    "    '''\n",
    "    INPUT: None\n",
    "    OUTPUT: movies_seen - a dictionary where each key is a user_id and the value is an array of movie_ids\n",
    "    \n",
    "    Creates the movies_seen dictionary\n",
    "    '''\n",
    "    movies_seen = {user:movies_watched(user) for user in user_by_movie.index}\n",
    "    \n",
    "    return movies_seen\n",
    "\n",
    "\n",
    "# Use your function to return dictionary\n",
    "movies_seen = create_user_movie_dict()"
   ]
  },
  {
   "cell_type": "code",
   "execution_count": 8,
   "metadata": {
    "execution": {
     "iopub.execute_input": "2021-11-24T21:53:12.684669Z",
     "iopub.status.busy": "2021-11-24T21:53:12.684349Z",
     "iopub.status.idle": "2021-11-24T21:53:12.691173Z",
     "shell.execute_reply": "2021-11-24T21:53:12.690419Z",
     "shell.execute_reply.started": "2021-11-24T21:53:12.684625Z"
    }
   },
   "outputs": [],
   "source": [
    "movies_seen[1]"
   ]
  },
  {
   "cell_type": "markdown",
   "metadata": {},
   "source": [
    "`3.` If a user hasn't rated more than 2 movies, we consider these users \"too new\".  Create a new dictionary that only contains users who have rated more than 2 movies.  This dictionary will be used for all the final steps of this workbook."
   ]
  },
  {
   "cell_type": "code",
   "execution_count": 9,
   "metadata": {
    "execution": {
     "iopub.execute_input": "2021-11-24T21:53:12.692674Z",
     "iopub.status.busy": "2021-11-24T21:53:12.692464Z",
     "iopub.status.idle": "2021-11-24T21:53:12.713253Z",
     "shell.execute_reply": "2021-11-24T21:53:12.712585Z",
     "shell.execute_reply.started": "2021-11-24T21:53:12.692649Z"
    }
   },
   "outputs": [],
   "source": [
    "# Remove individuals who have watched 2 or fewer movies - don't have enough data to make recs\n",
    "\n",
    "def create_movies_to_analyze(movies_seen, lower_bound=2):\n",
    "    '''\n",
    "    INPUT:  \n",
    "    movies_seen - a dictionary where each key is a user_id and the value is an array of movie_ids\n",
    "    lower_bound - (an int) a user must have more movies seen than the lower bound to be added to the movies_to_analyze dictionary\n",
    "\n",
    "    OUTPUT: \n",
    "    movies_to_analyze - a dictionary where each key is a user_id and the value is an array of movie_ids\n",
    "    \n",
    "    The movies_seen and movies_to_analyze dictionaries should be the same except that the output dictionary has removed \n",
    "    \n",
    "    '''\n",
    "    \n",
    "    # Do things to create updated dictionary\n",
    "#     movies_to_analyze = {}\n",
    "\n",
    "#     for key, value in movies_seen.items():\n",
    "#         if len(value) > lower_bound:\n",
    "#             movies_to_analyze[key] = value\n",
    "    movies_to_analyze = {key:value for key, value in movies_seen.items() if len(value) > lower_bound}\n",
    "    \n",
    "    return movies_to_analyze\n",
    "\n",
    "\n",
    "# Use your function to return your updated dictionary\n",
    "movies_to_analyze = create_movies_to_analyze(movies_seen)"
   ]
  },
  {
   "cell_type": "code",
   "execution_count": 10,
   "metadata": {
    "execution": {
     "iopub.execute_input": "2021-11-24T21:53:12.715422Z",
     "iopub.status.busy": "2021-11-24T21:53:12.714464Z",
     "iopub.status.idle": "2021-11-24T21:53:12.732444Z",
     "shell.execute_reply": "2021-11-24T21:53:12.731607Z",
     "shell.execute_reply.started": "2021-11-24T21:53:12.715375Z"
    }
   },
   "outputs": [],
   "source": [
    "len(movies_to_analyze)"
   ]
  },
  {
   "cell_type": "code",
   "execution_count": 11,
   "metadata": {
    "execution": {
     "iopub.execute_input": "2021-11-24T21:53:12.736389Z",
     "iopub.status.busy": "2021-11-24T21:53:12.735748Z",
     "iopub.status.idle": "2021-11-24T21:53:12.744588Z",
     "shell.execute_reply": "2021-11-24T21:53:12.743782Z",
     "shell.execute_reply.started": "2021-11-24T21:53:12.736342Z"
    }
   },
   "outputs": [],
   "source": [
    "# Run the tests below to check that your movies_to_analyze matches the solution\n",
    "assert len(movies_to_analyze) == 23512, \"Oops!  It doesn't look like your dictionary has the right number of individuals.\"\n",
    "assert len(movies_to_analyze[2]) == 23, \"Oops!  User 2 didn't match the number of movies we thought they would have.\"\n",
    "assert len(movies_to_analyze[7])  == 3, \"Oops!  User 7 didn't match the number of movies we thought they would have.\"\n",
    "print(\"If this is all you see, you are good to go!\")"
   ]
  },
  {
   "cell_type": "markdown",
   "metadata": {},
   "source": [
    "### Calculating User Similarities\n",
    "\n",
    "Now that you have set up the **movies_to_analyze** dictionary, it is time to take a closer look at the similarities between users.  Below is the pseudocode for how I thought about determining the similarity between users:\n",
    "\n",
    "```\n",
    "for user1 in movies_to_analyze\n",
    "    for user2 in movies_to_analyze\n",
    "        see how many movies match between the two users\n",
    "        if more than two movies in common\n",
    "            pull the overlapping movies\n",
    "            compute the distance/similarity metric between ratings on the same movies for the two users\n",
    "            store the users and the distance metric\n",
    "```\n",
    "\n",
    "However, this took a very long time to run, and other methods of performing these operations did not fit on the workspace memory!\n",
    "\n",
    "Therefore, rather than creating a dataframe with all possible pairings of users in our data, your task for this question is to look at a few specific examples of the correlation between ratings given by two users.  For this question consider you want to compute the [correlation](https://pandas.pydata.org/pandas-docs/stable/generated/pandas.DataFrame.corr.html) between users.\n",
    "\n",
    "`4.` Using the **movies_to_analyze** dictionary and **user_by_movie** dataframe, create a function that computes the correlation between the ratings of similar movies for two users.  Then use your function to compare your results to ours using the tests below.  "
   ]
  },
  {
   "cell_type": "code",
   "execution_count": 12,
   "metadata": {
    "execution": {
     "iopub.execute_input": "2021-11-24T21:53:12.746287Z",
     "iopub.status.busy": "2021-11-24T21:53:12.745806Z",
     "iopub.status.idle": "2021-11-24T21:53:12.755306Z",
     "shell.execute_reply": "2021-11-24T21:53:12.754375Z",
     "shell.execute_reply.started": "2021-11-24T21:53:12.746245Z"
    }
   },
   "outputs": [],
   "source": [
    "def compute_correlation(user1, user2):\n",
    "    '''\n",
    "    INPUT\n",
    "    user1 - int user_id\n",
    "    user2 - int user_id\n",
    "    OUTPUT\n",
    "    the correlation between the matching ratings between the two users\n",
    "    '''\n",
    "    movies1 = movies_to_analyze[user1]\n",
    "    movies2 = movies_to_analyze[user2]\n",
    "\n",
    "    commen_movies = np.intersect1d(movies1, movies2, assume_unique=True)\n",
    "\n",
    "    corr = user_by_movie.loc[[user1, user2], commen_movies].T.corr().iloc[0, 1]\n",
    "    \n",
    "    return corr #return the correlation"
   ]
  },
  {
   "cell_type": "code",
   "execution_count": 13,
   "metadata": {
    "execution": {
     "iopub.execute_input": "2021-11-24T21:53:12.756816Z",
     "iopub.status.busy": "2021-11-24T21:53:12.756584Z",
     "iopub.status.idle": "2021-11-24T21:53:12.820886Z",
     "shell.execute_reply": "2021-11-24T21:53:12.820276Z",
     "shell.execute_reply.started": "2021-11-24T21:53:12.756787Z"
    }
   },
   "outputs": [],
   "source": [
    "# Test your function against the solution\n",
    "assert compute_correlation(2,2) == 1.0, \"Oops!  The correlation between a user and itself should be 1.0.\"\n",
    "assert round(compute_correlation(2,66), 2) == 0.76, \"Oops!  The correlation between user 2 and 66 should be about 0.76.\"\n",
    "assert np.isnan(compute_correlation(2,104)), \"Oops!  The correlation between user 2 and 104 should be a NaN.\"\n",
    "\n",
    "print(\"If this is all you see, then it looks like your function passed all of our tests!\")"
   ]
  },
  {
   "cell_type": "markdown",
   "metadata": {},
   "source": [
    "### Why the NaN's?\n",
    "\n",
    "If the function you wrote passed all of the tests, then you have correctly set up your function to calculate the correlation between any two users.  \n",
    "\n",
    "`5.` But one question is, why are we still obtaining **NaN** values?  As you can see in the code cell above, users 2 and 104 have a correlation of **NaN**. Why?"
   ]
  },
  {
   "cell_type": "markdown",
   "metadata": {},
   "source": [
    "Think and write your ideas here about why these NaNs exist, and use the cells below to do some coding to validate your thoughts. You can check other pairs of users and see that there are actually many NaNs in our data - 2,526,710 of them in fact. These NaN's ultimately make the correlation coefficient a less than optimal measure of similarity between two users.\n",
    "\n",
    "\n"
   ]
  },
  {
   "cell_type": "code",
   "execution_count": 14,
   "metadata": {
    "execution": {
     "iopub.execute_input": "2021-11-24T21:53:12.822340Z",
     "iopub.status.busy": "2021-11-24T21:53:12.821796Z",
     "iopub.status.idle": "2021-11-24T21:53:12.833798Z",
     "shell.execute_reply": "2021-11-24T21:53:12.832918Z",
     "shell.execute_reply.started": "2021-11-24T21:53:12.822304Z"
    }
   },
   "outputs": [],
   "source": [
    "# Which movies did both user 2 and user 104 see?\n",
    "compute_correlation(2, 104)"
   ]
  },
  {
   "cell_type": "markdown",
   "metadata": {},
   "source": [
    "`6.` Because the correlation coefficient proved to be less than optimal for relating user ratings to one another, we could instead calculate the euclidean distance between the ratings.  I found [this post](https://stackoverflow.com/questions/1401712/how-can-the-euclidean-distance-be-calculated-with-numpy) particularly helpful when I was setting up my function.  This function should be very similar to your previous function.  When you feel confident with your function, test it against our results."
   ]
  },
  {
   "cell_type": "code",
   "execution_count": 16,
   "metadata": {
    "execution": {
     "iopub.execute_input": "2021-11-24T21:53:12.847821Z",
     "iopub.status.busy": "2021-11-24T21:53:12.845764Z",
     "iopub.status.idle": "2021-11-24T21:53:12.856476Z",
     "shell.execute_reply": "2021-11-24T21:53:12.855678Z",
     "shell.execute_reply.started": "2021-11-24T21:53:12.847784Z"
    }
   },
   "outputs": [],
   "source": [
    "def compute_euclidean_dist(user1, user2):\n",
    "    '''\n",
    "    INPUT\n",
    "    user1 - int user_id\n",
    "    user2 - int user_id\n",
    "    OUTPUT\n",
    "    the euclidean distance between user1 and user2\n",
    "    '''\n",
    "    movies1 = movies_to_analyze[user1]\n",
    "    movies2 = movies_to_analyze[user2]\n",
    "\n",
    "    commen_movies = np.intersect1d(movies1, movies2, assume_unique=True)\n",
    "\n",
    "    df = user_by_movie.loc[[user1, user2], commen_movies]\n",
    "\n",
    "    dist = np.linalg.norm(df.loc[user1] - df.loc[user2])\n",
    "    \n",
    "    return dist #return the euclidean distance"
   ]
  },
  {
   "cell_type": "code",
   "execution_count": 17,
   "metadata": {
    "execution": {
     "iopub.execute_input": "2021-11-24T21:53:12.858395Z",
     "iopub.status.busy": "2021-11-24T21:53:12.858067Z",
     "iopub.status.idle": "2021-11-24T21:53:12.908671Z",
     "shell.execute_reply": "2021-11-24T21:53:12.907833Z",
     "shell.execute_reply.started": "2021-11-24T21:53:12.858354Z"
    }
   },
   "outputs": [],
   "source": [
    "# Test your function against the solution\n",
    "assert compute_euclidean_dist(2,2) == 0, \"Oops! Wrong\"\n",
    "assert round(compute_euclidean_dist(54,44), 2) == 5.1, \"Oops! Wrong\"\n",
    "assert np.isnan(compute_euclidean_dist(2,104)) == False, \"Oops! Wrong\"\n",
    "\n",
    "print(\"If this is all you see, then it looks like your function passed all of our tests!\")"
   ]
  },
  {
   "cell_type": "code",
   "execution_count": 18,
   "metadata": {
    "execution": {
     "iopub.execute_input": "2021-11-24T21:53:12.910799Z",
     "iopub.status.busy": "2021-11-24T21:53:12.910324Z",
     "iopub.status.idle": "2021-11-24T21:53:12.929707Z",
     "shell.execute_reply": "2021-11-24T21:53:12.928907Z",
     "shell.execute_reply.started": "2021-11-24T21:53:12.910752Z"
    }
   },
   "outputs": [],
   "source": [
    "compute_euclidean_dist(2,104)"
   ]
  },
  {
   "cell_type": "markdown",
   "metadata": {},
   "source": [
    "Find similarity for the first 1000 users only to reduce execution time."
   ]
  },
  {
   "cell_type": "code",
   "execution_count": 19,
   "metadata": {
    "execution": {
     "iopub.execute_input": "2021-11-24T21:53:12.931749Z",
     "iopub.status.busy": "2021-11-24T21:53:12.930837Z",
     "iopub.status.idle": "2021-11-24T21:53:12.935714Z",
     "shell.execute_reply": "2021-11-24T21:53:12.934889Z",
     "shell.execute_reply.started": "2021-11-24T21:53:12.931713Z"
    }
   },
   "outputs": [],
   "source": [
    "users = list(movies_to_analyze.keys())[:1000]"
   ]
  },
  {
   "cell_type": "code",
   "execution_count": 21,
   "metadata": {
    "execution": {
     "iopub.execute_input": "2021-11-24T21:53:12.954422Z",
     "iopub.status.busy": "2021-11-24T21:53:12.953917Z",
     "iopub.status.idle": "2021-11-24T21:56:40.461260Z",
     "shell.execute_reply": "2021-11-24T21:56:40.460295Z",
     "shell.execute_reply.started": "2021-11-24T21:53:12.954379Z"
    }
   },
   "outputs": [],
   "source": [
    "dists = pd.DataFrame([])\n",
    "for i, user1 in enumerate(users):\n",
    "    for user2 in users[i:]:\n",
    "        #see how many movies match between the two users\n",
    "        movies1 = movies_to_analyze[user1]\n",
    "        movies2 = movies_to_analyze[user2]\n",
    "        commen_movies = np.intersect1d(movies1, movies2, assume_unique=True)\n",
    "        \n",
    "        if len(commen_movies) > 2:\n",
    "            if user1 != user2:\n",
    "                euclidean_dist = compute_euclidean_dist(user1, user2)\n",
    "                dists = dists.append([{'user1':user1, 'user2':user2, 'dist':euclidean_dist}], ignore_index=True)\n",
    "                dists = dists.append([{'user1':user2, 'user2':user1, 'dist':euclidean_dist}], ignore_index=True)"
   ]
  },
  {
   "cell_type": "code",
   "execution_count": 22,
   "metadata": {
    "execution": {
     "iopub.execute_input": "2021-11-24T21:56:40.464366Z",
     "iopub.status.busy": "2021-11-24T21:56:40.464008Z",
     "iopub.status.idle": "2021-11-24T21:56:40.476440Z",
     "shell.execute_reply": "2021-11-24T21:56:40.475483Z",
     "shell.execute_reply.started": "2021-11-24T21:56:40.464309Z"
    }
   },
   "outputs": [],
   "source": [
    "dists"
   ]
  },
  {
   "cell_type": "markdown",
   "metadata": {},
   "source": [
    "### Using the Nearest Neighbors to Make Recommendations\n",
    "\n",
    "In the previous question, you read in **df_dists**. Therefore, you have a measure of distance between each user and every other user. This dataframe holds every possible pairing of users, as well as the corresponding euclidean distance.\n",
    "\n",
    "Because of the **NaN** values that exist within the correlations of the matching ratings for many pairs of users, as we discussed above, we will proceed using **df_dists**. You will want to find the users that are 'nearest' each user.  Then you will want to find the movies the closest neighbors have liked to recommend to each user.\n",
    "\n",
    "I made use of the following objects:\n",
    "\n",
    "* df_dists (to obtain the neighbors)\n",
    "* user_items (to obtain the movies the neighbors and users have rated)\n",
    "* movies (to obtain the names of the movies)\n",
    "\n",
    "`7.` Complete the functions below, which allow you to find the recommendations for any user.  There are five functions which you will need:\n",
    "\n",
    "* **find_closest_neighbors** - this returns a list of user_ids from closest neighbor to farthest neighbor using euclidean distance\n",
    "\n",
    "\n",
    "* **movies_liked** - returns an array of movie_ids\n",
    "\n",
    "\n",
    "* **movie_names** - takes the output of movies_liked and returns a list of movie names associated with the movie_ids\n",
    "\n",
    "\n",
    "* **make_recommendations** - takes a user id and goes through closest neighbors to return a list of movie names as recommendations\n",
    "\n",
    "\n",
    "* **all_recommendations** = loops through every user and returns a dictionary of with the key as a user_id and the value as a list of movie recommendations"
   ]
  },
  {
   "cell_type": "code",
   "execution_count": 53,
   "metadata": {
    "execution": {
     "iopub.execute_input": "2021-11-24T22:59:05.403675Z",
     "iopub.status.busy": "2021-11-24T22:59:05.403345Z",
     "iopub.status.idle": "2021-11-24T22:59:12.581304Z",
     "shell.execute_reply": "2021-11-24T22:59:12.580412Z",
     "shell.execute_reply.started": "2021-11-24T22:59:05.403643Z"
    }
   },
   "outputs": [],
   "source": [
    "def find_closest_neighbors(user):\n",
    "    '''\n",
    "    INPUT:\n",
    "        user - (int) the user_id of the individual you want to find the closest users\n",
    "    OUTPUT:\n",
    "        closest_neighbors - an array of the id's of the users sorted from closest to farthest away\n",
    "    '''\n",
    "    # I treated ties as arbitrary and just kept whichever was easiest to keep using the head method\n",
    "    # You might choose to do something less hand wavy - order the neighbors\n",
    "    \n",
    "    closest_neighbors = dists[dists['user1']==user].sort_values('dist')['user2'].values\n",
    "    \n",
    "    return closest_neighbors\n",
    "    \n",
    "    \n",
    "    \n",
    "def movies_liked(user_id, min_rating=7):\n",
    "    '''\n",
    "    INPUT:\n",
    "    user_id - the user_id of an individual as int\n",
    "    min_rating - the minimum rating considered while still a movie is still a \"like\" and not a \"dislike\"\n",
    "    OUTPUT:\n",
    "    movies_liked - an array of movies the user has watched and liked\n",
    "    '''\n",
    "    \n",
    "    movies_liked = user_items.query('user_id == @user_id and rating >= @min_rating')['movie_id'].values\n",
    "  \n",
    "    return movies_liked\n",
    "\n",
    "\n",
    "def movie_names(movie_ids):\n",
    "    '''\n",
    "    INPUT\n",
    "    movie_ids - a list of movie_ids\n",
    "    OUTPUT\n",
    "    movies - a list of movie names associated with the movie_ids\n",
    "    \n",
    "    '''\n",
    "    \n",
    "    movie_lst = movies[movies['movie_id'].isin(movie_ids)]['movie'].values\n",
    "\n",
    "    return movie_lst\n",
    "    \n",
    "    \n",
    "def make_recommendations(user, num_recs=10):\n",
    "    '''\n",
    "    INPUT:\n",
    "        user - (int) a user_id of the individual you want to make recommendations for\n",
    "        num_recs - (int) number of movies to return\n",
    "    OUTPUT:\n",
    "        recommendations - a list of movies - if there are \"num_recs\" recommendations return this many\n",
    "                          otherwise return the total number of recommendations available for the \"user\"\n",
    "                          which may just be an empty list\n",
    "    '''\n",
    "    \n",
    "    recommendations = []\n",
    "    \n",
    "    seen_movies = movies_watched(user)\n",
    "    closest_neighbors = find_closest_neighbors(user)\n",
    "    \n",
    "    for neighbor in closest_neighbors:\n",
    "        neighbor_movies_liked = movies_liked(neighbor)\n",
    "        recommended_movies = np.setdiff1d(neighbor_movies_liked, seen_movies)\n",
    "        recommended_movies = movie_names(recommended_movies)\n",
    "        recommendations.extend(recommended_movies)\n",
    "\n",
    "        if len(recommendations) >= num_recs:\n",
    "            recommendations = recommendations[:10]\n",
    "            break\n",
    "    \n",
    "    return recommendations\n",
    "\n",
    "def all_recommendations(num_recs=10):\n",
    "    '''\n",
    "    INPUT \n",
    "        num_recs (int) the (max) number of recommendations for each user\n",
    "    OUTPUT\n",
    "        all_recs - a dictionary where each key is a user_id and the value is an array of recommended movie titles\n",
    "    '''\n",
    "    \n",
    "\n",
    "    # Make the recommendations for each user\n",
    "    all_recs = {user:make_recommendations(user, num_recs) for user in users}    \n",
    "    \n",
    "    return all_recs\n",
    "\n",
    "all_recs = all_recommendations(10)"
   ]
  },
  {
   "cell_type": "code",
   "execution_count": 56,
   "metadata": {
    "execution": {
     "iopub.execute_input": "2021-11-24T23:00:02.821143Z",
     "iopub.status.busy": "2021-11-24T23:00:02.820849Z",
     "iopub.status.idle": "2021-11-24T23:00:02.958260Z",
     "shell.execute_reply": "2021-11-24T23:00:02.957360Z",
     "shell.execute_reply.started": "2021-11-24T23:00:02.821116Z"
    }
   },
   "outputs": [],
   "source": [
    "all_recs"
   ]
  }
 ],
 "metadata": {
  "kernelspec": {
   "display_name": "Python 3 (ipykernel)",
   "language": "python",
   "name": "python3"
  },
  "language_info": {
   "codemirror_mode": {
    "name": "ipython",
    "version": 3
   },
   "file_extension": ".py",
   "mimetype": "text/x-python",
   "name": "python",
   "nbconvert_exporter": "python",
   "pygments_lexer": "ipython3",
   "version": "3.7.1"
  }
 },
 "nbformat": 4,
 "nbformat_minor": 4
}
